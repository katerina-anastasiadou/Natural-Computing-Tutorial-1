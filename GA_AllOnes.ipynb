{
 "cells": [
  {
   "cell_type": "markdown",
   "metadata": {},
   "source": [
    "# Genetic Algorithm Example Program"
   ]
  },
  {
   "cell_type": "markdown",
   "metadata": {},
   "source": [
    "This is a simple illustration of a Genetic Algorithm finding the minimum value for the notorious all-ones problem, for the Natural Computing course at University of Edinburgh. This is by no means perfect code and should not be taken as such. The code was created by Billy Lyons, and takes some inspiration from https://github.com/ezstoltz/genetic-algorithm, with some changes for ease."
   ]
  },
  {
   "cell_type": "markdown",
   "metadata": {},
   "source": [
    "You can change the number of bits per string in the next cell. Other parameters enter the genetic_algorithm function directly, see last executable cell in the notebook."
   ]
  },
  {
   "cell_type": "code",
   "execution_count": 1,
   "metadata": {},
   "outputs": [],
   "source": [
    "NoB=50;"
   ]
  },
  {
   "cell_type": "markdown",
   "metadata": {},
   "source": [
    "Importing necessary libraries"
   ]
  },
  {
   "cell_type": "code",
   "execution_count": 2,
   "metadata": {},
   "outputs": [],
   "source": [
    "import numpy as np\n",
    "import random\n",
    "import operator\n",
    "import matplotlib.pyplot as plt"
   ]
  },
  {
   "cell_type": "markdown",
   "metadata": {},
   "source": [
    "Create initial population: In this formulation, the individual genes of our solutions consist of a string of 0s and 1s."
   ]
  },
  {
   "cell_type": "code",
   "execution_count": 3,
   "metadata": {},
   "outputs": [],
   "source": [
    "def initial_population(pop):\n",
    "    population = []\n",
    "    \n",
    "    for i in range(pop):\n",
    "        genome = []\n",
    "        for i in range(NoB):\n",
    "            genome.append(np.random.randint(0,2))\n",
    "        population.append(genome)\n",
    "    return population"
   ]
  },
  {
   "cell_type": "markdown",
   "metadata": {},
   "source": [
    "# Fitness"
   ]
  },
  {
   "cell_type": "markdown",
   "metadata": {},
   "source": [
    "In a genetic algorithm we need to know how good our individuals are for a number of reasons. If we are performing roulette wheel selection, we weight likelihood to breed and thus pass on genes by fitness, if we have some percentage of elitism, we may wish to keep the X most successful members of the population. As such we must define a fitness function for our routes."
   ]
  },
  {
   "cell_type": "code",
   "execution_count": 4,
   "metadata": {},
   "outputs": [],
   "source": [
    "def fitness(genome):\n",
    "    \n",
    "    fitness=sum(genome);\n",
    "    \n",
    "    return fitness"
   ]
  },
  {
   "cell_type": "markdown",
   "metadata": {},
   "source": [
    "# Genetic Algorithm"
   ]
  },
  {
   "cell_type": "markdown",
   "metadata": {},
   "source": [
    "We now have a population and a way to calculate fitness. We must use these to rank our population from best to worst. This is essential, as, you should weight the chance to reproduce by the fitness of each member, much in the same way that a better biological agent is more likely to pass on their genes with greater succes. Additionally, you may wish to maintain some elite members through to the next generation, so ordering is natural and makes life a lot easier."
   ]
  },
  {
   "cell_type": "code",
   "execution_count": 5,
   "metadata": {},
   "outputs": [],
   "source": [
    "def ranking_pop(population):\n",
    "    fitnesses = {}\n",
    "    sum_fit = 0.0\n",
    "    for i in range(len(population)):\n",
    "        fitnesses[i] = fitness(population[i])\n",
    "        sum_fit += fitnesses[i]\n",
    "    return sorted(fitnesses.items(), key=operator.itemgetter(1),reverse=True), sum_fit"
   ]
  },
  {
   "cell_type": "markdown",
   "metadata": {},
   "source": [
    "Now that we have our sorted list, we must perform selection for the next parents of the next generation. Here we are going to replicate into the next generation a certain number of elite agents, and we take the population size minus this elitism, and draw that many members from the generation by a probability distribution which is determined by their individual fitness.\n",
    "\n",
    "1) Why might we want to have some level of elitism?\n",
    "\n",
    "2) Why do we use a weighted selection?"
   ]
  },
  {
   "cell_type": "code",
   "execution_count": 6,
   "metadata": {},
   "outputs": [],
   "source": [
    "def selection(ranked, tot, elitism):\n",
    "    probabilities = np.zeros(len(ranked))\n",
    "    members = np.arange(len(ranked))\n",
    "    size = len(ranked)\n",
    "    elite_members = []\n",
    "    for i in range(len(ranked)):\n",
    "        x,y = ranked[i][0], ranked[i][1]\n",
    "        if i < elitism:\n",
    "            elite_members.append(x)\n",
    "        probabilities[x] = y\n",
    "    probabilities=probabilities/np.sum(probabilities)\n",
    "    selected_members = np.random.choice(members, size-elitism, p=probabilities)\n",
    "    return selected_members, elite_members"
   ]
  },
  {
   "cell_type": "code",
   "execution_count": 7,
   "metadata": {},
   "outputs": [],
   "source": [
    "def mating_pool(population, selected_members, elite_members):\n",
    "    mating_pool = []\n",
    "    elite = []\n",
    "    for i in range(len(selected_members)):\n",
    "        index = selected_members[i]\n",
    "        mating_pool.append(population[index])\n",
    "                \n",
    "    for i in range(len(elite_members)):\n",
    "        index = elite_members[i]\n",
    "        elite.append(population[index])        \n",
    "    return mating_pool, elite"
   ]
  },
  {
   "cell_type": "markdown",
   "metadata": {},
   "source": [
    "Now that we have our pool of viable mates, we randomly draw some beginning and end point for the crossover between the two chromosomes. Maintaining order.\n",
    "\n",
    "1) Look at the below, what is happening? How is this different from point crossover in the all ones problem and the class notes?\n",
    "\n",
    "2) Why is it important to maintaining ordering?\n",
    "\n",
    "3) Crossover here occurs every time. How might you change this to a probabilistic method? Why might that be better/worse?\n"
   ]
  },
  {
   "cell_type": "code",
   "execution_count": 8,
   "metadata": {},
   "outputs": [],
   "source": [
    "def breed_from_parents(parent1, parent2):\n",
    "    geneA = int(np.random.rand()*len(parent1))\n",
    "    geneB = int(np.random.rand()*len(parent1))\n",
    "\n",
    "    while geneB == geneA:\n",
    "        geneB = int(np.random.rand()*len(parent1))\n",
    "    \n",
    "    start = min(geneA, geneB)\n",
    "    end = max(geneA, geneB)\n",
    "\n",
    "    child = []\n",
    "    for i in range(len(parent1)):\n",
    "        if i>=start and i<end:\n",
    "            child.append(parent1[i])\n",
    "        else:\n",
    "            child.append(parent2[i])\n",
    "    return child"
   ]
  },
  {
   "cell_type": "code",
   "execution_count": 9,
   "metadata": {},
   "outputs": [],
   "source": [
    "def new_population(mating_pool, elite_pool):\n",
    "    children = []\n",
    "    pool = random.sample(mating_pool, len(mating_pool))\n",
    "        \n",
    "    for i in range(len(elite_pool)):\n",
    "        children.append(elite_pool[i])\n",
    "    for i in range(len(mating_pool)):\n",
    "        child = breed_from_parents(pool[i], pool[len(mating_pool)-i-1])\n",
    "        children.append(child)\n",
    "    return children"
   ]
  },
  {
   "cell_type": "markdown",
   "metadata": {},
   "source": [
    "Now that our parent population has breeded and we have generated our new population from the children and the elites who have lived into the next generation, we must go through each solution and check to see if any must be mutated. We are doing this by running through each candidate in the new population, and at each point in the chromosome we see if it will mutate here and then perform a swap.\n",
    "\n",
    "1) Why is mutation an important part of a GA (hint: Think about the search space)?\n",
    "\n",
    "2) If you had a chromosome reprsenting some real number e.g. 3.14159 -> chromosome 314159, how might you adapt the mutation rate?\n"
   ]
  },
  {
   "cell_type": "code",
   "execution_count": 10,
   "metadata": {},
   "outputs": [],
   "source": [
    "def mutate(chromosome, prob_mut):\n",
    "    for mutable in range(len(chromosome)):\n",
    "        if (np.random.rand()<prob_mut):\n",
    "            chromosome[mutable]=1-chromosome[mutable]\n",
    "    return chromosome"
   ]
  },
  {
   "cell_type": "code",
   "execution_count": 11,
   "metadata": {},
   "outputs": [],
   "source": [
    "def mutation_over_pop(population, prob_mut):\n",
    "    mutated_pop = []\n",
    "    for i in range(len(population)):\n",
    "        mutated_chromo = mutate(population[i], prob_mut)\n",
    "        mutated_pop.append(mutated_chromo)\n",
    "    return mutated_pop"
   ]
  },
  {
   "cell_type": "code",
   "execution_count": 12,
   "metadata": {},
   "outputs": [],
   "source": [
    "def new_generation(current_gen, elitism, prob_mut):\n",
    "    rank, tot = ranking_pop(current_gen)\n",
    "    selected_members, elite_members = selection(rank, tot, elitism)\n",
    "    mates, elites = mating_pool(current_gen, selected_members, elite_members)\n",
    "    children = new_population(mates, elites)\n",
    "    next_gen = mutation_over_pop(children, prob_mut)\n",
    "    return next_gen    "
   ]
  },
  {
   "cell_type": "markdown",
   "metadata": {},
   "source": [
    "Now we put everything together and run it for the generations!"
   ]
  },
  {
   "cell_type": "code",
   "execution_count": 13,
   "metadata": {},
   "outputs": [],
   "source": [
    "def genetic_algorithm(population, elitism, prob_mut, generations):\n",
    "    pop = initial_population(population)\n",
    "    ranked, tot = ranking_pop(pop)\n",
    "    #print(ranked)\n",
    "    print(\"Initial best fitness: {}\".format(ranked[0][1]))\n",
    "    \n",
    "    for i in range(generations):\n",
    "        pop = new_generation(pop, elitism, prob_mut)\n",
    "        ranked, tot = ranking_pop(pop)\n",
    "        if ranked[0][1]==NoB:\n",
    "            break;\n",
    "    \n",
    "    ranked, tot = ranking_pop(pop)\n",
    "    print(\"Final best fitness: {}\".format(ranked[0][1]))\n",
    "    \n",
    "    return i"
   ]
  },
  {
   "cell_type": "code",
   "execution_count": 14,
   "metadata": {},
   "outputs": [
    {
     "name": "stdout",
     "output_type": "stream",
     "text": [
      "Initial best fitness: 33\n",
      "Final best fitness: 50\n",
      "run time:  986\n"
     ]
    }
   ],
   "source": [
    "zz=genetic_algorithm(50, 1, 0.01, 1000)\n",
    "print(\"run time: \",zz)"
   ]
  },
  {
   "cell_type": "markdown",
   "metadata": {},
   "source": [
    "# Next"
   ]
  },
  {
   "cell_type": "markdown",
   "metadata": {},
   "source": [
    "Many things could be improved here, but we should move on.\n",
    "\n",
    "Have a look at the TSP GA, next."
   ]
  }
 ],
 "metadata": {
  "kernelspec": {
   "display_name": "Python 3 (ipykernel)",
   "language": "python",
   "name": "python3"
  },
  "language_info": {
   "codemirror_mode": {
    "name": "ipython",
    "version": 3
   },
   "file_extension": ".py",
   "mimetype": "text/x-python",
   "name": "python",
   "nbconvert_exporter": "python",
   "pygments_lexer": "ipython3",
   "version": "3.6.12"
  }
 },
 "nbformat": 4,
 "nbformat_minor": 4
}
