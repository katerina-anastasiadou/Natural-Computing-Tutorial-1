{
 "cells": [
  {
   "cell_type": "markdown",
   "metadata": {},
   "source": [
    "# Genetic Algorithm Example Program"
   ]
  },
  {
   "cell_type": "markdown",
   "metadata": {},
   "source": [
    "This is a simple illustration of a Genetic Algorithm finding the minimum value for a Travelling Salesperson Problem, for the course Natural Computing course at University of Edinburgh. This is by no means perfect code and should not be taken as such. The code was created by Billy Lyons, and takes some inspiration from https://github.com/ezstoltz/genetic-algorithm, with some changes for ease."
   ]
  },
  {
   "cell_type": "markdown",
   "metadata": {},
   "source": [
    "#  Importing necessary libraries"
   ]
  },
  {
   "cell_type": "code",
   "execution_count": 1,
   "metadata": {},
   "outputs": [],
   "source": [
    "import numpy as np\n",
    "import random\n",
    "import operator\n",
    "import matplotlib.pyplot as plt"
   ]
  },
  {
   "cell_type": "markdown",
   "metadata": {},
   "source": [
    "# Genes and Chromosomes"
   ]
  },
  {
   "cell_type": "markdown",
   "metadata": {},
   "source": [
    "In this formulation the individual genes of our solutions consist of cities the agent visits along the route, the chromosome being the full route. First we make a class for each city, that contains their personal coordinates in plane, and a function for computing the distance between a given city and another."
   ]
  },
  {
   "cell_type": "code",
   "execution_count": 2,
   "metadata": {},
   "outputs": [],
   "source": [
    "class City:\n",
    "    def __init__(self, x, y):\n",
    "        self.x = x\n",
    "        self.y = y\n",
    "        \n",
    "    def distance_to(self, city):\n",
    "        x = np.abs(self.x - city.x)\n",
    "        y = np.abs(self.y - city.y)\n",
    "        distance = np.sqrt((x*x)+(y*y))\n",
    "        return distance\n",
    "    \n",
    "    def __repr__(self):\n",
    "        return \"[\" + str(self.x)+\",\"+str(self.y)+\"]\""
   ]
  },
  {
   "cell_type": "markdown",
   "metadata": {},
   "source": [
    "Testing gene generation"
   ]
  },
  {
   "cell_type": "code",
   "execution_count": 3,
   "metadata": {},
   "outputs": [
    {
     "name": "stdout",
     "output_type": "stream",
     "text": [
      "5.0\n",
      "[1,1]\n"
     ]
    }
   ],
   "source": [
    "test_city = City(1,1)\n",
    "other_city = City(4,5)\n",
    "\n",
    "print(test_city.distance_to(other_city))\n",
    "print(test_city)"
   ]
  },
  {
   "cell_type": "markdown",
   "metadata": {},
   "source": [
    "Given that we are able to generate individual cities, we will now create our complete list of cities. This list will be where we generate our population from."
   ]
  },
  {
   "cell_type": "code",
   "execution_count": 4,
   "metadata": {},
   "outputs": [
    {
     "name": "stdout",
     "output_type": "stream",
     "text": [
      "[[4,22], [18,1], [13,17], [30,30], [14,3], [23,30], [30,12], [17,31], [5,10], [11,11], [13,1], [8,24], [24,16], [30,2], [23,25], [23,31], [7,5], [22,3], [7,27], [22,29], [9,21], [20,9], [29,14], [21,20], [3,18], [0,25], [28,20], [4,10], [13,17], [17,4], [17,0], [12,9]]\n"
     ]
    }
   ],
   "source": [
    "cities = []\n",
    "\n",
    "NoC=32;\n",
    "\n",
    "for i in range(NoC):\n",
    "    cities.append(City((np.random.randint(0, NoC)), np.random.randint(0,NoC)))\n",
    "    \n",
    "print(cities)"
   ]
  },
  {
   "cell_type": "markdown",
   "metadata": {},
   "source": [
    "Now that we have all of our cities generated and added into a list. We will define the fuction which generates a route, this route will be a member of our population, and from this we will create our initial population. Each member of the population must vist every state in city, and return to the start, so these are sampled without replacement."
   ]
  },
  {
   "cell_type": "code",
   "execution_count": 5,
   "metadata": {},
   "outputs": [],
   "source": [
    "def create_route(cities):\n",
    "    route = random.sample(cities, len(cities))\n",
    "    return route"
   ]
  },
  {
   "cell_type": "markdown",
   "metadata": {},
   "source": [
    "Create initial population"
   ]
  },
  {
   "cell_type": "code",
   "execution_count": 6,
   "metadata": {},
   "outputs": [],
   "source": [
    "def initial_population(pop, cities):\n",
    "    population = []\n",
    "    \n",
    "    for i in range(pop):\n",
    "        population.append(create_route(cities))\n",
    "    return population"
   ]
  },
  {
   "cell_type": "markdown",
   "metadata": {},
   "source": [
    "# Fitness"
   ]
  },
  {
   "cell_type": "markdown",
   "metadata": {},
   "source": [
    "In a genetic algorithm we need to know how good our individuals are for a number of reasons. If we are performing roulette wheel selection, we weight likelihood to breed and thus pass on genes by fitness, if we have some percentage of elitism, we may wish to keep the X most successful members of the population. As such we must define a fitness function for our routes."
   ]
  },
  {
   "cell_type": "code",
   "execution_count": 7,
   "metadata": {},
   "outputs": [],
   "source": [
    "def fitness(route):\n",
    "    distance, fitness = 0.0,0.0\n",
    "    for i in range(0, len(route)):\n",
    "        from_city=route[i]\n",
    "        to_city=route[(i+1)%len(route)]\n",
    "        \n",
    "        distance+=(from_city.distance_to(to_city))\n",
    "    \n",
    "    fitness=(1/distance)\n",
    "    \n",
    "    return fitness, distance"
   ]
  },
  {
   "cell_type": "markdown",
   "metadata": {},
   "source": [
    "# Genetic Algorithm"
   ]
  },
  {
   "cell_type": "markdown",
   "metadata": {},
   "source": [
    "We now have a population and a way to calculate fitness. We must use these to rank our population from best to worst. This is essential, as, you should weight the chance to reproduce by the fitness of each member, much in the same way that a better biological agent is more likely to pass on their genes with greater succes. Additionally, you may wish to maintain some elite members through to the next generation, so ordering is natural and makes life a lot easier."
   ]
  },
  {
   "cell_type": "code",
   "execution_count": 8,
   "metadata": {},
   "outputs": [],
   "source": [
    "def ranking_pop(population):\n",
    "    fitnesses = {}\n",
    "    sum_fit = 0.0\n",
    "    distances = {}\n",
    "    for i in range(len(population)):\n",
    "        fitnesses[i], distances[i] = fitness(population[i])\n",
    "        x, y = fitness(population[i])\n",
    "        sum_fit += x\n",
    "    return sorted(fitnesses.items(), key=operator.itemgetter(1), reverse=True), sum_fit, distances"
   ]
  },
  {
   "cell_type": "markdown",
   "metadata": {},
   "source": [
    "Now that we have our sorted list, we must perform selection for the next parents of the next generation. Here we are going to replicate into the next generation a certain number of elite agents, and we take the population size minus this elitism, and draw that many members from the generation by a probability distribution which is determined by their individual fitness.\n",
    "\n",
    "1) Why might we want to have some level of elitism?\n",
    "\n",
    "2) Why do we use a weighted selection?"
   ]
  },
  {
   "cell_type": "code",
   "execution_count": 9,
   "metadata": {},
   "outputs": [],
   "source": [
    "def selection(ranked, tot, elitism):\n",
    "    probabilities = np.zeros(len(ranked))\n",
    "    members = np.arange(len(ranked))\n",
    "    size = len(ranked)\n",
    "    elite_members = []\n",
    "    for i in range(len(ranked)):\n",
    "        x,y = ranked[i][0], ranked[i][1]\n",
    "        if i < elitism:\n",
    "            elite_members.append(x)\n",
    "        probabilities[x] = y\n",
    "    probabilities=probabilities/np.sum(probabilities)\n",
    "    selected_members = np.random.choice(members, size-elitism, p=probabilities)\n",
    "    return selected_members, elite_members"
   ]
  },
  {
   "cell_type": "code",
   "execution_count": 10,
   "metadata": {},
   "outputs": [],
   "source": [
    "def mating_pool(population, selected_members, elite_members):\n",
    "    mating_pool = []\n",
    "    elite = []\n",
    "    for i in range(len(selected_members)):\n",
    "        index = selected_members[i]\n",
    "        mating_pool.append(population[index])\n",
    "                \n",
    "    for i in range(len(elite_members)):\n",
    "        index = elite_members[i]\n",
    "        elite.append(population[index])        \n",
    "    return mating_pool, elite"
   ]
  },
  {
   "cell_type": "markdown",
   "metadata": {},
   "source": [
    "Now that we have our pool of viable mates, we randomly draw some beginning and end point for the crossover between the two chromosomes. Maintaining order.\n",
    "\n",
    "1) Look at the below, what is happening? How is this different from point crossover in the all ones problem and the class notes?\n",
    "\n",
    "2) Why is it important to maintaining ordering?\n",
    "\n",
    "3) Crossover here occurs every time. How might you change this to a probabilistic method? Why might that be better/worse?\n"
   ]
  },
  {
   "cell_type": "code",
   "execution_count": 11,
   "metadata": {},
   "outputs": [],
   "source": [
    "def breed_from_parents(parent1, parent2):\n",
    "    child = []\n",
    "    childP1 = []\n",
    "    childP2 = []\n",
    "    t1,t2 = 0,0\n",
    "    geneA = int(np.random.rand()*len(parent1))\n",
    "    geneB = int(np.random.rand()*len(parent1))\n",
    "    while geneB == geneA:\n",
    "        geneB = int(np.random.rand()*len(parent1))\n",
    "    \n",
    "    start = min(geneA, geneB)\n",
    "    end = max(geneA, geneB)\n",
    "    \n",
    "    for i in range(start, end):\n",
    "        childP1.append(parent1[i])\n",
    "    childP2 = [item for item in parent2 if item not in childP1]\n",
    "    \n",
    "    for i in range(len(parent1)):\n",
    "        if i>=start and i<end:\n",
    "            child.append(childP1[t1])\n",
    "            t1+=1\n",
    "        else:\n",
    "            child.append(childP2[t2])\n",
    "            t2+=1\n",
    "    return child"
   ]
  },
  {
   "cell_type": "code",
   "execution_count": 12,
   "metadata": {},
   "outputs": [],
   "source": [
    "def new_population(mating_pool, elite_pool):\n",
    "    children = []\n",
    "    pool = random.sample(mating_pool, len(mating_pool))\n",
    "        \n",
    "    for i in range(len(elite_pool)):\n",
    "        children.append(elite_pool[i])\n",
    "    for i in range(len(mating_pool)):\n",
    "        child = breed_from_parents(pool[i], pool[len(mating_pool)-i-1])\n",
    "        children.append(child)\n",
    "    return children"
   ]
  },
  {
   "cell_type": "markdown",
   "metadata": {},
   "source": [
    "Now that our parent population has breeded and we have generated our new population from the children and the elites who have lived into the next generation, we must go through each solution and check to see if any must be mutated. We are doing this by running through each candidate in the new population, and at each point in the chromosome we see if it will mutate here and then perform a swap.\n",
    "\n",
    "1) Why is mutation an important part of a GA (hint: Think about the search space)?\n",
    "\n",
    "2) If you had a chromosome reprsenting some real number e.g. 3.14159 -> chromosome 314159, how might you adapt the mutation rate?\n"
   ]
  },
  {
   "cell_type": "code",
   "execution_count": 13,
   "metadata": {},
   "outputs": [],
   "source": [
    "def mutate(chromosome, prob_mut):\n",
    "    for mutable in range(len(chromosome)):\n",
    "        if (np.random.rand()<prob_mut):\n",
    "            swap = np.random.randint(0, len(chromosome))\n",
    "            \n",
    "            cityA = chromosome[mutable]\n",
    "            cityB = chromosome[swap]\n",
    "            \n",
    "            chromosome[mutable]=cityB\n",
    "            chromosome[swap]=cityA\n",
    "    return chromosome"
   ]
  },
  {
   "cell_type": "code",
   "execution_count": 14,
   "metadata": {},
   "outputs": [],
   "source": [
    "def mutation_over_pop(population, prob_mut):\n",
    "    mutated_pop = []\n",
    "    for i in range(len(population)):\n",
    "        mutated_chromo = mutate(population[i], prob_mut)\n",
    "        mutated_pop.append(mutated_chromo)\n",
    "    return mutated_pop"
   ]
  },
  {
   "cell_type": "code",
   "execution_count": 15,
   "metadata": {},
   "outputs": [],
   "source": [
    "def new_generation(current_gen, elitism, prob_mut):\n",
    "    rank, tot, distances = ranking_pop(current_gen)\n",
    "    selected_members, elite_members = selection(rank, tot, elitism)\n",
    "    mates, elites = mating_pool(current_gen, selected_members, elite_members)\n",
    "    children = new_population(mates, elites)\n",
    "    next_gen = mutation_over_pop(children, prob_mut)\n",
    "    return next_gen    "
   ]
  },
  {
   "cell_type": "markdown",
   "metadata": {},
   "source": [
    "Now we put everything together and run it for the generations!"
   ]
  },
  {
   "cell_type": "code",
   "execution_count": 16,
   "metadata": {},
   "outputs": [],
   "source": [
    "def genetic_algorithm(population, elitism, prob_mut, generations):\n",
    "    pop = initial_population(population, cities)\n",
    "    ranked, tot, distances = ranking_pop(pop)\n",
    "    print(\"Initial shortest distance: {}\".format(distances[ranked[0][0]]))\n",
    "    \n",
    "    for i in range(generations):\n",
    "        pop = new_generation(pop, elitism, prob_mut)\n",
    "    \n",
    "    ranked, tot, distances = ranking_pop(pop)\n",
    "    print(\"Final shortest distance: {}\".format(distances[ranked[0][0]]))\n",
    "    best_route = pop[ranked[0][0]]\n",
    "    return best_route"
   ]
  },
  {
   "cell_type": "code",
   "execution_count": 17,
   "metadata": {},
   "outputs": [
    {
     "name": "stdout",
     "output_type": "stream",
     "text": [
      "Initial shortest distance: 449.83161770197614\n",
      "Final shortest distance: 299.9086689131021\n"
     ]
    }
   ],
   "source": [
    "zz=genetic_algorithm(100, 5, 0.01, 1000)"
   ]
  },
  {
   "cell_type": "code",
   "execution_count": 18,
   "metadata": {},
   "outputs": [
    {
     "data": {
      "image/png": "[encoded data removed]",
      "text/plain": [
       "<matplotlib.figure.Figure at 0x7f3eb20f9198>"
      ]
     },
     "metadata": {
      "needs_background": "light"
     },
     "output_type": "display_data"
    }
   ],
   "source": [
    "kk=len(zz);\n",
    "zx=[]\n",
    "zy=[]\n",
    "for i in range(kk):\n",
    "    zx.append(zz[i].x)\n",
    "    zy.append(zz[i].y)\n",
    "plt.scatter(zx,zy);\n",
    "plt.plot([zx[i % kk] for i in range(kk+1)], [zy[i % kk] for i in range(kk+1)], 'xb-');\n",
    "plt.show()"
   ]
  },
  {
   "cell_type": "markdown",
   "metadata": {},
   "source": [
    "# Suggestions for additional exercises"
   ]
  },
  {
   "cell_type": "markdown",
   "metadata": {},
   "source": [
    "1) Re-use this GA, test it with the all-ones problem, having your GA learn to output a string that you enter, or something more exciting!\n",
    "\n",
    "2) Find a faster algorithm (e.g. pandas).\n",
    "\n",
    "3) This is very much the canonical GA (though the crossover is slightly different due to the problem scenario). Include additions or alterations to the canonical algorithm to improve the performance."
   ]
  },
  {
   "cell_type": "code",
   "execution_count": null,
   "metadata": {},
   "outputs": [],
   "source": []
  }
 ],
 "metadata": {
  "kernelspec": {
   "display_name": "Python 3 (ipykernel)",
   "language": "python",
   "name": "python3"
  },
  "language_info": {
   "codemirror_mode": {
    "name": "ipython",
    "version": 3
   },
   "file_extension": ".py",
   "mimetype": "text/x-python",
   "name": "python",
   "nbconvert_exporter": "python",
   "pygments_lexer": "ipython3",
   "version": "3.6.12"
  }
 },
 "nbformat": 4,
 "nbformat_minor": 4
}
